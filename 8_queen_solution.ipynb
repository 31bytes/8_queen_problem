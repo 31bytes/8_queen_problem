{
 "cells": [
  {
   "cell_type": "code",
   "execution_count": 2,
   "metadata": {},
   "outputs": [
    {
     "name": "stdout",
     "output_type": "stream",
     "text": [
      "0 4 7 5 2 6 1 3\n"
     ]
    }
   ],
   "source": [
    "#Number of Queens\n",
    "N = 8\n",
    "\n",
    "#Chess board\n",
    "board = [[0,0,0,0,0,0,0,0],[0,0,0,0,0,0,0,0],[0,0,0,0,0,0,0,0],[0,0,0,0,0,0,0,0],[0,0,0,0,0,0,0,0],[0,0,0,0,0,0,0,0],[0,0,0,0,0,0,0,0],[0,0,0,0,0,0,0,0]]\n",
    "\n",
    "#Check row,column and diagnol positon for attack\n",
    "def safe_position(i,j):\n",
    "    for x in range(0,N):\n",
    "        if (board[i][x] == 1 or board[x][j] == 1):\n",
    "             return False\n",
    "    for a in range(0,N):\n",
    "        for b in range(0,N):\n",
    "            if (a+b == i+j or a-b == i-j):\n",
    "                if board[a][b] == 1:\n",
    "                    return False\n",
    "    return True\n",
    "    \n",
    "#Place Queen after validating position\n",
    "def place_the_queen(n):    \n",
    "    if n == 0:\n",
    "        return True\n",
    "    for i in range(0,N):\n",
    "        for j in range(0,N):\n",
    "            if safe_position(i,j) == True and board[i][j]!=1:\n",
    "                board[i][j] = 1\n",
    "                if place_the_queen(n-1):\n",
    "                    return True\n",
    "                board[i][j] = 0\n",
    "\n",
    "def main():\n",
    "    place_the_queen(N)\n",
    "    position = []\n",
    "    #Printing possible position to place the queen\n",
    "    for x in range(0,len(board)):\n",
    "        position.append(board[x].index(1))\n",
    "    print(' '.join(map(str, position)))\n",
    "\n",
    "if __name__==\"__main__\":\n",
    "    main()"
   ]
  },
  {
   "cell_type": "code",
   "execution_count": null,
   "metadata": {},
   "outputs": [],
   "source": []
  }
 ],
 "metadata": {
  "kernelspec": {
   "display_name": "Python 3",
   "language": "python",
   "name": "python3"
  },
  "language_info": {
   "codemirror_mode": {
    "name": "ipython",
    "version": 3
   },
   "file_extension": ".py",
   "mimetype": "text/x-python",
   "name": "python",
   "nbconvert_exporter": "python",
   "pygments_lexer": "ipython3",
   "version": "3.7.5"
  }
 },
 "nbformat": 4,
 "nbformat_minor": 4
}
